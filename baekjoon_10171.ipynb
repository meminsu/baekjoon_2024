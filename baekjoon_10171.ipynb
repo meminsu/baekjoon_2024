{
  "nbformat": 4,
  "nbformat_minor": 0,
  "metadata": {
    "colab": {
      "provenance": []
    },
    "kernelspec": {
      "name": "python3",
      "display_name": "Python 3"
    },
    "language_info": {
      "name": "python"
    }
  },
  "cells": [
    {
      "cell_type": "markdown",
      "source": [
        "# Sol\n",
        "- \\를 나타내기 위해서는 \\를 두번(\\\\) 활용\n",
        "- '를 입력하고 싶으면 \"\"를 \"를 입력하고 싶으면 ''를 사용"
      ],
      "metadata": {
        "id": "SP_jgzc8-Jt6"
      }
    },
    {
      "cell_type": "code",
      "source": [
        "print(\"\\\\    /\\\\\")\n",
        "print(\" )  ( ')\")\n",
        "print(\"(  /  )\")\n",
        "print(\" \\\\(__)|\")"
      ],
      "metadata": {
        "colab": {
          "base_uri": "https://localhost:8080/"
        },
        "id": "_to-5AW-8zfx",
        "outputId": "8f0666d3-56f6-48ae-f78a-8e10d1c9c23f"
      },
      "execution_count": null,
      "outputs": [
        {
          "output_type": "stream",
          "name": "stdout",
          "text": [
            "\\    /\\\n",
            " )  ( ')\n",
            "(  /  )\n",
            " \\(__)|\n"
          ]
        }
      ]
    }
  ]
}